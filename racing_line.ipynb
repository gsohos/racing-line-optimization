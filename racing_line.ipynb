{
 "cells": [
  {
   "cell_type": "code",
   "execution_count": null,
   "id": "2e43e5bc",
   "metadata": {
    "pycharm": {
     "is_executing": true
    }
   },
   "outputs": [],
   "source": [
    "import pygame, sys\n",
    "import math\n",
    "import random as rn\n",
    "import numpy as np\n",
    "import copy\n",
    "import matplotlib.pyplot as plt\n",
    "from scipy import interpolate\n",
    "%matplotlib inline\n",
    "plt.rcParams.update({'figure.figsize': [8,5]})\n",
    "\n",
    "sys.path.append('procedural_tracks/')\n",
    "from procedural_tracks.main import *\n",
    "\n",
    "np.set_printoptions(precision=3, suppress=True)"
   ]
  },
  {
   "cell_type": "code",
   "execution_count": null,
   "id": "ddd80f03",
   "metadata": {
    "pycharm": {
     "is_executing": true
    }
   },
   "outputs": [],
   "source": [
    "# helper functions\n",
    "\n",
    "def get_track_points_from_random_track(seed=8, sample=20):\n",
    "    rn.seed(seed)  \n",
    "    points = random_points()\n",
    "    hull = ConvexHull(points)\n",
    "    track_points_coarse = shape_track(get_track_points(hull, points))\n",
    "    corner_points = get_corners_with_kerb(track_points_coarse)\n",
    "    track_points = smooth_track(track_points_coarse)[::sample]\n",
    "    return track_points\n",
    "\n",
    "def racing_line_length(points): \n",
    "    x,y = zip(*points)\n",
    "    num_points = len(points)\n",
    "    length = np.sum([np.sqrt((x[i] - x[i+1])**2 + (y[i] - y[i+1])**2) \n",
    "                     for i in range(num_points-1)])\n",
    "    return length\n",
    "\n",
    "# this is slightly incorrect, the new point can be (max_offset, max_offset) away\n",
    "# use a 2d gaussian instead?\n",
    "def get_new_point(old_point, baseline, spread, max_offset_from_baseline):\n",
    "    old_x, old_y = old_point\n",
    "    baseline_x, baseline_y = baseline\n",
    "    while True:\n",
    "        potential_x = old_x + (np.random.random()-0.5) * spread\n",
    "        if abs(potential_x - baseline_x) < max_offset_from_baseline:\n",
    "            new_x = potential_x\n",
    "            break\n",
    "    while True:\n",
    "        potential_y = old_y + (np.random.random()-0.5) * spread\n",
    "        if abs(potential_y - baseline_y) < max_offset_from_baseline:\n",
    "            new_y = potential_y\n",
    "            break\n",
    "    return new_x, new_y"
   ]
  },
  {
   "cell_type": "code",
   "execution_count": null,
   "id": "52a08967",
   "metadata": {
    "pycharm": {
     "is_executing": true
    }
   },
   "outputs": [],
   "source": [
    "# cost functions\n",
    "\n",
    "def racing_line_length_full(points_except_last, params={}): \n",
    "    points = copy.deepcopy(points_except_last)\n",
    "    points += [points[0]]\n",
    "    x,y = zip(*points)\n",
    "    num_points = len(points)\n",
    "    length = np.sum([np.sqrt((x[i] - x[i+1])**2 + (y[i] - y[i+1])**2) \n",
    "                     for i in range(num_points-1)])\n",
    "    return length\n",
    "\n",
    "def _angle_between(vector1, vector2):\n",
    "        vector1_unit = vector1 / np.linalg.norm(vector1)\n",
    "        vector2_unit = vector2 / np.linalg.norm(vector2)\n",
    "        return np.arccos(np.clip(np.dot(vector1_unit, vector2_unit), -1.0, 1.0))    \n",
    "    \n",
    "def sum_of_angles(points_except_last, params={}):\n",
    "    num_points = len(points_except_last)\n",
    "    points = copy.deepcopy(points_except_last)\n",
    "    points += [points[0]]\n",
    "    \n",
    "    vectors = [(points[i+1][0] - points[i][0], points[i+1][1] - points[i][1]) for i in range(num_points)]\n",
    "    vectors += [vectors[0]]\n",
    "    angles = [_angle_between(vectors[i], vectors[i+1]) for i in range(len(vectors)-1)]\n",
    "    return np.std(angles), angles\n",
    "    \n",
    "def _length_and_angles(points_except_last):\n",
    "#     length = racing_line_length_full(points_except_last)\n",
    "#     angles = sum_of_angles(points_except_last)\n",
    "    points = copy.deepcopy(points_except_last)\n",
    "    points += [points[0]]\n",
    "    x,y = zip(*points)\n",
    "    num_points = len(points)\n",
    "    vectors = [(x[i+1] - x[i], y[i+1] - y[i]) for i in range(num_points-1)]\n",
    "    vectors += [vectors[0]]\n",
    "    \n",
    "    length = np.sum([np.sqrt(vectors[i][0]**2 + vectors[i][1]**2) for i in range(len(vectors)-1)])\n",
    "    angles = np.std([_angle_between(vectors[i], vectors[i+1]) for i in range(len(vectors)-1)])\n",
    "    \n",
    "    return (length, angles)\n",
    "\n",
    "def length_and_angles(points_except_last, params={'reg_param': 0.0, 'init_cost': (1.0, 1.0)}):\n",
    "    reg_param = params['reg_param']\n",
    "    init_cost = params['init_cost']\n",
    "    \n",
    "    length, angles = _length_and_angles(points_except_last)\n",
    "    length_init, angles_init = init_cost\n",
    "    length_normalized = length / length_init\n",
    "    angles_normalized = angles / angles_init\n",
    "    \n",
    "    cost = length_normalized + reg_param * angles_normalized\n",
    "    return cost"
   ]
  },
  {
   "cell_type": "code",
   "execution_count": null,
   "id": "b4e22b54",
   "metadata": {
    "pycharm": {
     "is_executing": true
    }
   },
   "outputs": [],
   "source": [
    "# optimization functions\n",
    "\n",
    "def opt_random_perturbation(track_midpoints, compute_cost=racing_line_length_full,\n",
    "                            spread=10, iterations=100, track_width=0.65,\n",
    "                            debug=False, debug_iter=1000):\n",
    "    \n",
    "    best_racing_line = []\n",
    "    best_racing_line_cost = np.inf\n",
    "    num_track_points = np.array(track_midpoints).shape[0]\n",
    "    max_offset_from_baseline = track_width/2\n",
    "    racing_line = [0] * (num_track_points)\n",
    "    \n",
    "    for iteration in range(iterations):\n",
    "        for i in range(num_track_points):\n",
    "            new_x, new_y = get_new_point(track_midpoints[i], track_midpoints[i], \n",
    "                                         spread, max_offset_from_baseline)\n",
    "            racing_line[i] = (new_x, new_y)\n",
    "        cost = compute_cost(racing_line)\n",
    "        if cost < best_racing_line_cost:\n",
    "            best_racing_line = copy.deepcopy(racing_line)\n",
    "            best_racing_line_cost = cost\n",
    "        if debug:\n",
    "            if iteration % debug_iter == 0:\n",
    "                print(f'Best hiterto: {best_racing_line_cost:.3f}')\n",
    "    return best_racing_line, best_racing_line_cost\n",
    "\n",
    "def opt_iterative_improvement(track_midpoints, compute_cost=racing_line_length_full,\n",
    "                              cost_func_params={},\n",
    "                              spread=10, iterations=100, track_width=0.65,\n",
    "                              debug=False, debug_iter=1000):\n",
    "    \n",
    "    num_track_points = np.array(track_midpoints).shape[0]\n",
    "    racing_line_old = copy.deepcopy(track_midpoints)\n",
    "    racing_line_new = copy.deepcopy(racing_line_old)\n",
    "    max_offset_from_baseline = track_width/2\n",
    "    init_cost = compute_cost(racing_line_old)\n",
    "    print(f'Started with: {init_cost}')\n",
    "    min_cost_so_far = init_cost\n",
    "    \n",
    "    for iteration in range(iterations):\n",
    "        min_cost_iter = min_cost_so_far\n",
    "        point = (-1, (0,0))\n",
    "        for i in range(num_track_points):\n",
    "            new_x, new_y = get_new_point(racing_line_old[i], track_midpoints[i], \n",
    "                                         spread, max_offset_from_baseline)\n",
    "            racing_line_new[i] = (new_x, new_y)\n",
    "            cost = compute_cost(racing_line_new, cost_func_params)\n",
    "            if cost < min_cost_iter:\n",
    "                point = (i, (new_x, new_y))\n",
    "                min_cost_iter = cost\n",
    "            racing_line_new[i] = racing_line_old[i]\n",
    "        if min_cost_iter < min_cost_so_far:\n",
    "            racing_line_new[point[0]] = point[1]\n",
    "            min_cost_so_far = min_cost_iter\n",
    "        if debug:\n",
    "            if iteration % debug_iter == 0:\n",
    "                print(f'Smallest hiterto: {min_cost_so_far:.3f}')\n",
    "                #print(np.array(racing_line_new))\n",
    "        racing_line_old = copy.deepcopy(racing_line_new)\n",
    "    \n",
    "    print(f'\\nEnded with: {compute_cost(racing_line_new)}\\n')\n",
    "    return racing_line_new"
   ]
  },
  {
   "cell_type": "code",
   "execution_count": null,
   "id": "db9f072e",
   "metadata": {
    "pycharm": {
     "is_executing": true
    }
   },
   "outputs": [],
   "source": [
    "# visualization functions\n",
    "\n",
    "def draw_track_and_racing_line(track_points, racing_line, track_width, \n",
    "                               compute_cost=racing_line_length_full,\n",
    "                               xlims=None, ylims=None, smooth=False, smooth_points=1000):\n",
    "    track_points_x, track_points_y = zip(*track_points)\n",
    "    plt.scatter(track_points_x, track_points_y, s=1000*track_width, color='black', facecolor='None')\n",
    "    if xlims != None:\n",
    "        plt.xlim((-2, 6))\n",
    "    if ylims != None:\n",
    "        plt.ylim((-2, 6))\n",
    "#     print(compute_cost(racing_line))\n",
    "    racing_line = copy.deepcopy(racing_line)\n",
    "    racing_line += [racing_line[0]]\n",
    "    x, y = zip(*racing_line)\n",
    "    plt.plot(x, y, 'or')\n",
    "    if smooth:\n",
    "        tck, u = interpolate.splprep([x, y], s=0, per=True)\n",
    "        xi, yi = interpolate.splev(np.linspace(0, 1, smooth_points), tck)\n",
    "        plt.plot(xi, yi, '-b')\n",
    "    else:\n",
    "        plt.plot(x, y, '-b')\n",
    "    #print(f'Length of racing line: {racing_line_length(racing_line):.3f}')\n",
    "    \n",
    "def draw_complete_track(track_seed=8, racing_line=None):\n",
    "    pygame.init()\n",
    "    screen = pygame.display.set_mode((WIDTH, HEIGHT))\n",
    "    background_color = GRASS_GREEN\n",
    "    screen.fill(background_color)\n",
    "    \n",
    "    rn.seed(track_seed)  # 8 is a nice simple track\n",
    "    points = random_points()\n",
    "    hull = ConvexHull(points)\n",
    "    track_points = shape_track(get_track_points(hull, points))\n",
    "    corner_points = get_corners_with_kerb(track_points)\n",
    "    f_points = smooth_track(track_points)\n",
    "    # get complete corners from keypoints\n",
    "    corners = get_full_corners(f_points, corner_points)\n",
    "    # draw the actual track (road, kerbs, starting grid)\n",
    "    draw_track(screen, GREY, f_points, corners)\n",
    "    # draw racing line\n",
    "    draw_lines_from_points(screen, BLUE, racing_line)\n",
    "    # draw checkpoints\n",
    "    checkpoints = get_checkpoints(f_points)\n",
    "\n",
    "    pygame.display.set_caption(TITLE)\n",
    "    while True: # main loop\n",
    "        for event in pygame.event.get():\n",
    "            if event.type == QUIT:\n",
    "                pygame.quit()\n",
    "                sys.exit()\n",
    "        pygame.display.update()"
   ]
  },
  {
   "cell_type": "markdown",
   "id": "02f0009e",
   "metadata": {},
   "source": [
    "### Loading and checking a sample track"
   ]
  },
  {
   "cell_type": "code",
   "execution_count": null,
   "id": "d9ee0455",
   "metadata": {
    "pycharm": {
     "is_executing": true
    }
   },
   "outputs": [],
   "source": [
    "rn.seed(8)  # 8 is a nice simple track\n",
    "points = random_points()\n",
    "hull = ConvexHull(points)\n",
    "track_points = shape_track(get_track_points(hull, points))\n",
    "corner_points = get_corners_with_kerb(track_points)\n",
    "f_points = smooth_track(track_points)\n",
    "# get complete corners from keypoints\n",
    "corners = get_full_corners(f_points, corner_points)"
   ]
  },
  {
   "cell_type": "code",
   "execution_count": null,
   "id": "319b130c",
   "metadata": {
    "pycharm": {
     "is_executing": true
    }
   },
   "outputs": [],
   "source": [
    "len(f_points)"
   ]
  },
  {
   "cell_type": "code",
   "execution_count": null,
   "id": "d6976760",
   "metadata": {
    "pycharm": {
     "is_executing": true
    }
   },
   "outputs": [],
   "source": [
    "track_midpoints = np.array(f_points)\n",
    "track_midpoints_x, track_midpoints_y = zip(*track_midpoints)\n",
    "ax=plt.scatter(track_midpoints_x[::20], track_midpoints_y[::20], s=200, color='black', facecolor='None')"
   ]
  },
  {
   "cell_type": "markdown",
   "id": "d1c8babc",
   "metadata": {},
   "source": [
    "## Sanity checks on smaller tracks"
   ]
  },
  {
   "cell_type": "code",
   "execution_count": null,
   "id": "e090684a",
   "metadata": {
    "pycharm": {
     "is_executing": true
    }
   },
   "outputs": [],
   "source": [
    "track_points = [[0,0], [4,0], [4,4], [0,4]]\n",
    "track_width = 2"
   ]
  },
  {
   "cell_type": "code",
   "execution_count": null,
   "id": "730191b1",
   "metadata": {
    "pycharm": {
     "is_executing": true
    }
   },
   "outputs": [],
   "source": [
    "draw_track_and_racing_line(track_points, track_points, track_width, xlims=(-2,6), ylims=(-2,6))\n",
    "length_init, angles_init = _length_and_angles(track_points)\n",
    "print(length_init, angles_init)"
   ]
  },
  {
   "cell_type": "code",
   "execution_count": null,
   "id": "3efcd0ed",
   "metadata": {
    "pycharm": {
     "is_executing": true
    }
   },
   "outputs": [],
   "source": [
    "draw_track_and_racing_line(track_points, track_points, track_width, xlims=(-2,6), ylims=(-2,6), smooth=True)"
   ]
  },
  {
   "cell_type": "code",
   "execution_count": null,
   "id": "379edc3e",
   "metadata": {
    "pycharm": {
     "is_executing": true
    }
   },
   "outputs": [],
   "source": [
    "# Compute shortest racing line using the random-perturbation algorithm\n",
    "\n",
    "shortest_racing_line, _ = opt_random_perturbation(track_points, spread=0.8, iterations=100000)\n",
    "draw_track_and_racing_line(track_points, shortest_racing_line, track_width, xlims=(-2,6), ylims=(-2,6))"
   ]
  },
  {
   "cell_type": "code",
   "execution_count": null,
   "id": "797e2273",
   "metadata": {
    "scrolled": true,
    "pycharm": {
     "is_executing": true
    }
   },
   "outputs": [],
   "source": [
    "# Compute shortest racing line using the iterative-improvement algorithm\n",
    "\n",
    "shortest_racing_line = opt_iterative_improvement(track_points, compute_cost=racing_line_length_full,\n",
    "                                                 spread=0.8, iterations=1000,\n",
    "                                                 debug=False, debug_iter=1)\n",
    "draw_track_and_racing_line(track_points, shortest_racing_line, track_width, xlims=(-2,6), ylims=(-2,6))"
   ]
  },
  {
   "cell_type": "code",
   "execution_count": null,
   "id": "eed54f3b",
   "metadata": {
    "pycharm": {
     "is_executing": true
    }
   },
   "outputs": [],
   "source": [
    "# Compute shortest racing line using the iterative-improvement algorithm\n",
    "init_cost = _length_and_angles(track_points)\n",
    "shortest_racing_line = opt_iterative_improvement(track_points, compute_cost=length_and_angles,\n",
    "                                                 cost_func_params = {'reg_param': 0.5, 'init_cost': init_cost},\n",
    "                                                 spread=0.8, iterations=1000,\n",
    "                                                 debug=False, debug_iter=1)\n",
    "draw_track_and_racing_line(track_points, shortest_racing_line, track_width, xlims=(-2,6), ylims=(-2,6))"
   ]
  },
  {
   "cell_type": "code",
   "execution_count": null,
   "id": "833d01ca",
   "metadata": {
    "pycharm": {
     "is_executing": true
    }
   },
   "outputs": [],
   "source": [
    "# new track\n",
    "track_points = [[0,0], [4,0], [4,4], [2,4], [2,2], [0,2]]\n",
    "\n",
    "shortest_racing_line = opt_iterative_improvement(track_points, spread=0.8, iterations=1000,\n",
    "                                                 debug=False, debug_iter=1)\n",
    "draw_track_and_racing_line(track_points, shortest_racing_line, track_width=2, xlims=(-2,6), ylims=(-2,6))"
   ]
  },
  {
   "cell_type": "code",
   "execution_count": null,
   "id": "33ee1e5d",
   "metadata": {
    "pycharm": {
     "is_executing": true
    }
   },
   "outputs": [],
   "source": [
    "# new track\n",
    "track_points = [[0,0], [2,0], [4,0], [4,2], [4,4], [2,4], [2,2], [0,2]]\n",
    "\n",
    "shortest_racing_line = opt_iterative_improvement(track_points, spread=0.8, iterations=1000,\n",
    "                                                 debug=False, debug_iter=1)\n",
    "draw_track_and_racing_line(track_points, shortest_racing_line, track_width, xlims=(-2,6), ylims=(-2,6))"
   ]
  },
  {
   "cell_type": "code",
   "execution_count": null,
   "id": "42823daa",
   "metadata": {
    "pycharm": {
     "is_executing": true
    }
   },
   "outputs": [],
   "source": [
    "# Compute shortest racing line using the iterative-improvement algorithm\n",
    "init_cost = _length_and_angles(track_points)\n",
    "shortest_racing_line = opt_iterative_improvement(track_points, compute_cost=length_and_angles,\n",
    "                                                 cost_func_params = {'reg_param': 0.0, 'init_cost': init_cost},\n",
    "                                                 spread=0.8, iterations=1000,\n",
    "                                                 debug=False, debug_iter=1)\n",
    "draw_track_and_racing_line(track_points, shortest_racing_line, track_width, xlims=(-2,6), ylims=(-2,6))"
   ]
  },
  {
   "cell_type": "markdown",
   "id": "3f22834a",
   "metadata": {},
   "source": [
    "Seems to be working well enough. Back to the larger track(s)."
   ]
  },
  {
   "cell_type": "code",
   "execution_count": null,
   "id": "92a0026f",
   "metadata": {
    "pycharm": {
     "is_executing": true
    }
   },
   "outputs": [],
   "source": [
    "rn.seed(8)  # 8 is a nice simple track\n",
    "points = random_points()\n",
    "hull = ConvexHull(points)\n",
    "track_points_coarse = shape_track(get_track_points(hull, points))\n",
    "corner_points = get_corners_with_kerb(track_points_coarse)\n",
    "track_points = smooth_track(track_points_coarse)[::20]"
   ]
  },
  {
   "cell_type": "code",
   "execution_count": null,
   "id": "4861e379",
   "metadata": {
    "pycharm": {
     "is_executing": true
    }
   },
   "outputs": [],
   "source": [
    "draw_track_and_racing_line(track_points, track_points, track_width=2)#, xlims=(-2,6), ylims=(-2,6))\n",
    "print(length_and_angles(track_points))"
   ]
  },
  {
   "cell_type": "code",
   "execution_count": null,
   "id": "d014f679",
   "metadata": {
    "scrolled": true,
    "pycharm": {
     "is_executing": true
    }
   },
   "outputs": [],
   "source": [
    "shortest_racing_line = opt_iterative_improvement(track_points, compute_cost=racing_line_length_full,\n",
    "                                                 spread=70, iterations=1000,\n",
    "                                                 debug=False, debug_iter=10, track_width=70)\n",
    "draw_track_and_racing_line(track_points, shortest_racing_line, \n",
    "                           compute_cost=racing_line_length_full,\n",
    "                           track_width=2)#, xlims=(-2,6), ylims=(-2,6))"
   ]
  },
  {
   "cell_type": "markdown",
   "id": "b1039a6c",
   "metadata": {},
   "source": [
    "Ooh la la"
   ]
  },
  {
   "cell_type": "code",
   "execution_count": null,
   "id": "95c9e80f",
   "metadata": {
    "pycharm": {
     "is_executing": true
    }
   },
   "outputs": [],
   "source": [
    "# will open a new window, closing which throws the following (harmless) exception\n",
    "draw_complete_track(racing_line=shortest_racing_line)"
   ]
  },
  {
   "cell_type": "code",
   "execution_count": null,
   "id": "0ee3e3cc",
   "metadata": {
    "pycharm": {
     "is_executing": true
    }
   },
   "outputs": [],
   "source": [
    "# new track\n",
    "\n",
    "track_points = get_track_points_from_random_track(seed=123, sample=20)\n",
    "draw_track_and_racing_line(track_points, track_points, track_width=2)"
   ]
  },
  {
   "cell_type": "code",
   "execution_count": null,
   "id": "ff0d0518",
   "metadata": {
    "pycharm": {
     "is_executing": true
    }
   },
   "outputs": [],
   "source": [
    "shortest_racing_line = opt_iterative_improvement(track_points, compute_cost=racing_line_length_full,\n",
    "                                                 spread=70, iterations=1000,\n",
    "                                                 debug=False, debug_iter=10, track_width=70)\n",
    "draw_track_and_racing_line(track_points, shortest_racing_line, \n",
    "                           compute_cost=racing_line_length_full, track_width=2)"
   ]
  },
  {
   "cell_type": "code",
   "execution_count": null,
   "id": "d265e8f5",
   "metadata": {
    "pycharm": {
     "is_executing": true
    }
   },
   "outputs": [],
   "source": [
    "# new track\n",
    "\n",
    "track_points = get_track_points_from_random_track(seed=95521, sample=20)\n",
    "draw_track_and_racing_line(track_points, track_points, track_width=2, smooth=True, smooth_points=1000)\n",
    "print(_length_and_angles(track_points))"
   ]
  },
  {
   "cell_type": "code",
   "execution_count": null,
   "id": "e008b4e3",
   "metadata": {
    "pycharm": {
     "is_executing": true
    }
   },
   "outputs": [],
   "source": [
    "shortest_racing_line = opt_iterative_improvement(track_points, compute_cost=racing_line_length_full,\n",
    "                                                 spread=70, iterations=1000,\n",
    "                                                 debug=False, debug_iter=10, track_width=70)\n",
    "draw_track_and_racing_line(track_points, shortest_racing_line, \n",
    "                           compute_cost=racing_line_length_full, track_width=2)\n",
    "print(_length_and_angles(shortest_racing_line))"
   ]
  },
  {
   "cell_type": "code",
   "execution_count": null,
   "id": "9cc1d368",
   "metadata": {
    "pycharm": {
     "is_executing": true
    }
   },
   "outputs": [],
   "source": [
    "draw_track_and_racing_line(track_points, shortest_racing_line, \n",
    "                           compute_cost=racing_line_length_full, track_width=2, smooth=False, smooth_points=2000)\n",
    "print(_length_and_angles(shortest_racing_line))"
   ]
  },
  {
   "cell_type": "markdown",
   "id": "53a0b33c",
   "metadata": {},
   "source": [
    "### In quest for a more realistic cost function"
   ]
  },
  {
   "cell_type": "code",
   "execution_count": null,
   "id": "75b5b278",
   "metadata": {
    "pycharm": {
     "is_executing": true
    }
   },
   "outputs": [],
   "source": [
    "# Compute shortest racing line using the iterative-improvement algorithm\n",
    "init_cost = _length_and_angles(track_points)\n",
    "shortest_racing_line = opt_iterative_improvement(track_points, compute_cost=length_and_angles,\n",
    "                                                 cost_func_params = {'reg_param': 1, 'init_cost': init_cost},\n",
    "                                                 spread=70, iterations=1000,\n",
    "                                                 debug=True, debug_iter=50, track_width=70)\n",
    "draw_track_and_racing_line(track_points, shortest_racing_line, track_width=2)\n",
    "print(_length_and_angles(shortest_racing_line))"
   ]
  },
  {
   "cell_type": "code",
   "execution_count": null,
   "id": "9568f924",
   "metadata": {
    "scrolled": true,
    "pycharm": {
     "is_executing": true
    }
   },
   "outputs": [],
   "source": [
    "# Compute shortest racing line using the iterative-improvement algorithm\n",
    "init_cost = _length_and_angles(track_points)\n",
    "shortest_racing_line = opt_iterative_improvement(track_points, compute_cost=length_and_angles,\n",
    "                                                 cost_func_params = {'reg_param': 0.5, 'init_cost': init_cost},\n",
    "                                                 spread=70, iterations=1000,\n",
    "                                                 debug=True, debug_iter=50, track_width=70)\n",
    "draw_track_and_racing_line(track_points, shortest_racing_line, track_width=2)\n",
    "print(_length_and_angles(shortest_racing_line))"
   ]
  },
  {
   "cell_type": "code",
   "execution_count": null,
   "id": "494fa39a",
   "metadata": {
    "pycharm": {
     "is_executing": true
    }
   },
   "outputs": [],
   "source": [
    "# Compute shortest racing line using the iterative-improvement algorithm\n",
    "init_cost = _length_and_angles(track_points)\n",
    "shortest_racing_line = opt_iterative_improvement(track_points, compute_cost=length_and_angles,\n",
    "                                                 cost_func_params = {'reg_param': 0.1, 'init_cost': init_cost},\n",
    "                                                 spread=70, iterations=1000,\n",
    "                                                 debug=True, debug_iter=50, track_width=70)\n",
    "draw_track_and_racing_line(track_points, shortest_racing_line, track_width=2)\n",
    "print(_length_and_angles(shortest_racing_line))"
   ]
  },
  {
   "cell_type": "code",
   "execution_count": null,
   "id": "568acfe3",
   "metadata": {
    "scrolled": true,
    "pycharm": {
     "is_executing": true
    }
   },
   "outputs": [],
   "source": [
    "# Compute shortest racing line using the iterative-improvement algorithm\n",
    "init_cost = _length_and_angles(track_points)\n",
    "shortest_racing_line = opt_iterative_improvement(track_points, compute_cost=length_and_angles,\n",
    "                                                 cost_func_params = {'reg_param': 0.03, 'init_cost': init_cost},\n",
    "                                                 spread=70, iterations=1000,\n",
    "                                                 debug=True, debug_iter=50, track_width=70)\n",
    "draw_track_and_racing_line(track_points, shortest_racing_line, track_width=2)\n",
    "print(_length_and_angles(shortest_racing_line))"
   ]
  },
  {
   "cell_type": "code",
   "execution_count": null,
   "id": "e641258d",
   "metadata": {
    "scrolled": true,
    "pycharm": {
     "is_executing": true
    }
   },
   "outputs": [],
   "source": [
    "# Compute shortest racing line using the iterative-improvement algorithm\n",
    "init_cost = _length_and_angles(track_points)\n",
    "shortest_racing_line = opt_iterative_improvement(track_points, compute_cost=length_and_angles,\n",
    "                                                 cost_func_params = {'reg_param': 0.01, 'init_cost': init_cost},\n",
    "                                                 spread=70, iterations=1000,\n",
    "                                                 debug=True, debug_iter=50, track_width=70)\n",
    "draw_track_and_racing_line(track_points, shortest_racing_line, track_width=2)\n",
    "print(_length_and_angles(shortest_racing_line))"
   ]
  },
  {
   "cell_type": "code",
   "execution_count": null,
   "id": "8651e9a2",
   "metadata": {
    "scrolled": true,
    "pycharm": {
     "is_executing": true
    }
   },
   "outputs": [],
   "source": [
    "# Compute shortest racing line using the iterative-improvement algorithm\n",
    "init_cost = _length_and_angles(track_points)\n",
    "shortest_racing_line = opt_iterative_improvement(track_points, compute_cost=length_and_angles,\n",
    "                                                 cost_func_params = {'reg_param': 0.02, 'init_cost': init_cost},\n",
    "                                                 spread=70, iterations=1000,\n",
    "                                                 debug=True, debug_iter=50, track_width=70)\n",
    "draw_track_and_racing_line(track_points, shortest_racing_line, track_width=2)\n",
    "print(_length_and_angles(shortest_racing_line))"
   ]
  },
  {
   "cell_type": "code",
   "execution_count": null,
   "id": "b1a401ba",
   "metadata": {
    "scrolled": true,
    "pycharm": {
     "is_executing": true
    }
   },
   "outputs": [],
   "source": [
    "# Compute shortest racing line using the iterative-improvement algorithm\n",
    "init_cost = _length_and_angles(track_points)\n",
    "shortest_racing_line = opt_iterative_improvement(track_points, compute_cost=length_and_angles,\n",
    "                                                 cost_func_params = {'reg_param': 0.015, 'init_cost': init_cost},\n",
    "                                                 spread=70, iterations=1000,\n",
    "                                                 debug=True, debug_iter=50, track_width=70)\n",
    "draw_track_and_racing_line(track_points, shortest_racing_line, track_width=2)\n",
    "print(_length_and_angles(shortest_racing_line))"
   ]
  },
  {
   "cell_type": "code",
   "execution_count": null,
   "id": "9b138d37",
   "metadata": {
    "pycharm": {
     "is_executing": true
    }
   },
   "outputs": [],
   "source": [
    "draw_track_and_racing_line(track_points, shortest_racing_line, track_width=2, smooth=True, smooth_points=1000)"
   ]
  },
  {
   "cell_type": "code",
   "execution_count": null,
   "id": "23f21f93",
   "metadata": {
    "pycharm": {
     "is_executing": true
    }
   },
   "outputs": [],
   "source": []
  }
 ],
 "metadata": {
  "kernelspec": {
   "display_name": "Python 3 (ipykernel)",
   "language": "python",
   "name": "python3"
  },
  "language_info": {
   "codemirror_mode": {
    "name": "ipython",
    "version": 3
   },
   "file_extension": ".py",
   "mimetype": "text/x-python",
   "name": "python",
   "nbconvert_exporter": "python",
   "pygments_lexer": "ipython3",
   "version": "3.9.7"
  }
 },
 "nbformat": 4,
 "nbformat_minor": 5
}